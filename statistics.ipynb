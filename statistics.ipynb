{
  "nbformat": 4,
  "nbformat_minor": 0,
  "metadata": {
    "colab": {
      "name": "statistics.ipynb",
      "provenance": [],
      "authorship_tag": "ABX9TyMT5UBkVQAJnAai+jwCSPvR",
      "include_colab_link": true
    },
    "kernelspec": {
      "display_name": "Python 3",
      "name": "python3"
    }
  },
  "cells": [
    {
      "cell_type": "markdown",
      "metadata": {
        "id": "view-in-github",
        "colab_type": "text"
      },
      "source": [
        "<a href=\"https://colab.research.google.com/github/DanielaLFreire/imagesearchengine/blob/main/statistics.ipynb\" target=\"_parent\"><img src=\"https://colab.research.google.com/assets/colab-badge.svg\" alt=\"Open In Colab\"/></a>"
      ]
    },
    {
      "cell_type": "markdown",
      "metadata": {
        "id": "IdN-cXIcpEP0"
      },
      "source": [
        "Load packages"
      ]
    },
    {
      "cell_type": "code",
      "metadata": {
        "colab": {
          "base_uri": "https://localhost:8080/"
        },
        "id": "VhuzrBLSE4L0",
        "outputId": "9942421f-f822-4103-988a-c018189005b5"
      },
      "source": [
        "%matplotlib inline\n",
        "\n",
        "import numpy as np\n",
        "import pandas as pd\n",
        "import seaborn as sns\n",
        "import matplotlib.pyplot as plt\n",
        "\n",
        "import scipy.stats as stats\n",
        "# get ANOVA table as R like output\n",
        "import statsmodels.api as sm\n",
        "from statsmodels.formula.api import ols\n",
        "# load packages\n",
        "from statsmodels.stats.multicomp import pairwise_tukeyhsd\n",
        "\n",
        "from google.colab import drive\n",
        "drive.mount('/content/drive', force_remount=True)"
      ],
      "execution_count": 119,
      "outputs": [
        {
          "output_type": "stream",
          "text": [
            "Mounted at /content/drive\n"
          ],
          "name": "stdout"
        }
      ]
    },
    {
      "cell_type": "code",
      "metadata": {
        "id": "ZNMccvskE75S"
      },
      "source": [
        "output_path='/content/drive/MyDrive/Colab Notebooks/'"
      ],
      "execution_count": 89,
      "outputs": []
    },
    {
      "cell_type": "code",
      "metadata": {
        "id": "T7M28D_iE7LF"
      },
      "source": [
        "df_duration_resnet50 = pd.read_csv(output_path+'acc_resnet50.csv', names = ['ResNet50'], sep=\"\\t\")\n",
        "df_acc_vgg16 = pd.read_csv(output_path+'acc_vgg16.csv',  names = ['Vgg16'],sep=\"\\t\")\n",
        "df_acc_mobilenet = pd.read_csv(output_path+'acc_mobilenet.csv', names = ['MobileNet'],sep=\"\\t\")\n",
        "df_acc_mobilenetv2 = pd.read_csv(output_path+'acc_mobilenetv2.csv',names = ['MobileNetV2'],sep=\"\\t\")\n",
        "\n",
        "df_acc_hog = pd.read_csv(output_path+'acc_hog.csv',  names = ['HOG'],sep=\"\\t\")\n",
        "df_acc_lbp = pd.read_csv(output_path+'acc_lbp.csv', names = ['LBP'],sep=\"\\t\")\n",
        "df_acc_orb = pd.read_csv(output_path+'acc_orb.csv',names = ['ORB'],sep=\"\\t\")\n",
        "\n",
        "df_acc = pd.concat([df_acc_resnet50, df_acc_vgg16,df_acc_mobilenet,df_acc_mobilenetv2, df_acc_hog, df_acc_lbp, df_acc_orb ], axis=1, join=\"inner\")"
      ],
      "execution_count": 41,
      "outputs": []
    },
    {
      "cell_type": "code",
      "metadata": {
        "colab": {
          "base_uri": "https://localhost:8080/",
          "height": 648
        },
        "id": "g1TYo3jScOco",
        "outputId": "a43eab51-9a6e-4d25-96e1-bc91246c5a44"
      },
      "source": [
        "df_acc"
      ],
      "execution_count": 109,
      "outputs": [
        {
          "output_type": "execute_result",
          "data": {
            "text/html": [
              "<div>\n",
              "<style scoped>\n",
              "    .dataframe tbody tr th:only-of-type {\n",
              "        vertical-align: middle;\n",
              "    }\n",
              "\n",
              "    .dataframe tbody tr th {\n",
              "        vertical-align: top;\n",
              "    }\n",
              "\n",
              "    .dataframe thead th {\n",
              "        text-align: right;\n",
              "    }\n",
              "</style>\n",
              "<table border=\"1\" class=\"dataframe\">\n",
              "  <thead>\n",
              "    <tr style=\"text-align: right;\">\n",
              "      <th></th>\n",
              "      <th>ResNet50</th>\n",
              "      <th>Vgg16</th>\n",
              "      <th>MobileNet</th>\n",
              "      <th>MobileNetV2</th>\n",
              "      <th>HOG</th>\n",
              "      <th>LBP</th>\n",
              "      <th>ORB</th>\n",
              "    </tr>\n",
              "  </thead>\n",
              "  <tbody>\n",
              "    <tr>\n",
              "      <th>0</th>\n",
              "      <td>0.861659</td>\n",
              "      <td>0.853828</td>\n",
              "      <td>0.868619</td>\n",
              "      <td>0.868329</td>\n",
              "      <td>0.765371</td>\n",
              "      <td>0.765371</td>\n",
              "      <td>0.75029</td>\n",
              "    </tr>\n",
              "    <tr>\n",
              "      <th>1</th>\n",
              "      <td>0.859629</td>\n",
              "      <td>0.854698</td>\n",
              "      <td>0.868910</td>\n",
              "      <td>0.868039</td>\n",
              "      <td>0.765371</td>\n",
              "      <td>0.765371</td>\n",
              "      <td>0.75029</td>\n",
              "    </tr>\n",
              "    <tr>\n",
              "      <th>2</th>\n",
              "      <td>0.859919</td>\n",
              "      <td>0.852958</td>\n",
              "      <td>0.868910</td>\n",
              "      <td>0.867749</td>\n",
              "      <td>0.765371</td>\n",
              "      <td>0.765371</td>\n",
              "      <td>0.75029</td>\n",
              "    </tr>\n",
              "    <tr>\n",
              "      <th>3</th>\n",
              "      <td>0.860499</td>\n",
              "      <td>0.854698</td>\n",
              "      <td>0.867459</td>\n",
              "      <td>0.868619</td>\n",
              "      <td>0.765371</td>\n",
              "      <td>0.765371</td>\n",
              "      <td>0.75029</td>\n",
              "    </tr>\n",
              "    <tr>\n",
              "      <th>4</th>\n",
              "      <td>0.859339</td>\n",
              "      <td>0.853828</td>\n",
              "      <td>0.866879</td>\n",
              "      <td>0.866879</td>\n",
              "      <td>0.765371</td>\n",
              "      <td>0.765371</td>\n",
              "      <td>0.75029</td>\n",
              "    </tr>\n",
              "    <tr>\n",
              "      <th>5</th>\n",
              "      <td>0.859339</td>\n",
              "      <td>0.854988</td>\n",
              "      <td>0.868039</td>\n",
              "      <td>0.867459</td>\n",
              "      <td>0.765371</td>\n",
              "      <td>0.765371</td>\n",
              "      <td>0.75029</td>\n",
              "    </tr>\n",
              "    <tr>\n",
              "      <th>6</th>\n",
              "      <td>0.859629</td>\n",
              "      <td>0.854698</td>\n",
              "      <td>0.868039</td>\n",
              "      <td>0.868619</td>\n",
              "      <td>0.765371</td>\n",
              "      <td>0.765371</td>\n",
              "      <td>0.75029</td>\n",
              "    </tr>\n",
              "    <tr>\n",
              "      <th>7</th>\n",
              "      <td>0.859339</td>\n",
              "      <td>0.855568</td>\n",
              "      <td>0.867169</td>\n",
              "      <td>0.867169</td>\n",
              "      <td>0.765371</td>\n",
              "      <td>0.765371</td>\n",
              "      <td>0.75029</td>\n",
              "    </tr>\n",
              "    <tr>\n",
              "      <th>8</th>\n",
              "      <td>0.858469</td>\n",
              "      <td>0.854698</td>\n",
              "      <td>0.867459</td>\n",
              "      <td>0.867749</td>\n",
              "      <td>0.765371</td>\n",
              "      <td>0.765371</td>\n",
              "      <td>0.75029</td>\n",
              "    </tr>\n",
              "    <tr>\n",
              "      <th>9</th>\n",
              "      <td>0.859629</td>\n",
              "      <td>0.854408</td>\n",
              "      <td>0.867749</td>\n",
              "      <td>0.867459</td>\n",
              "      <td>0.765371</td>\n",
              "      <td>0.765371</td>\n",
              "      <td>0.75029</td>\n",
              "    </tr>\n",
              "    <tr>\n",
              "      <th>10</th>\n",
              "      <td>0.860789</td>\n",
              "      <td>0.855278</td>\n",
              "      <td>0.868039</td>\n",
              "      <td>0.868619</td>\n",
              "      <td>0.765371</td>\n",
              "      <td>0.765371</td>\n",
              "      <td>0.75029</td>\n",
              "    </tr>\n",
              "    <tr>\n",
              "      <th>11</th>\n",
              "      <td>0.858469</td>\n",
              "      <td>0.854408</td>\n",
              "      <td>0.868619</td>\n",
              "      <td>0.868910</td>\n",
              "      <td>0.765371</td>\n",
              "      <td>0.765371</td>\n",
              "      <td>0.75029</td>\n",
              "    </tr>\n",
              "    <tr>\n",
              "      <th>12</th>\n",
              "      <td>0.858179</td>\n",
              "      <td>0.854408</td>\n",
              "      <td>0.869200</td>\n",
              "      <td>0.867169</td>\n",
              "      <td>0.765371</td>\n",
              "      <td>0.765371</td>\n",
              "      <td>0.75029</td>\n",
              "    </tr>\n",
              "    <tr>\n",
              "      <th>13</th>\n",
              "      <td>0.861659</td>\n",
              "      <td>0.855278</td>\n",
              "      <td>0.868910</td>\n",
              "      <td>0.868329</td>\n",
              "      <td>0.765371</td>\n",
              "      <td>0.765371</td>\n",
              "      <td>0.75029</td>\n",
              "    </tr>\n",
              "    <tr>\n",
              "      <th>14</th>\n",
              "      <td>0.860209</td>\n",
              "      <td>0.853538</td>\n",
              "      <td>0.868619</td>\n",
              "      <td>0.868329</td>\n",
              "      <td>0.765371</td>\n",
              "      <td>0.765371</td>\n",
              "      <td>0.75029</td>\n",
              "    </tr>\n",
              "    <tr>\n",
              "      <th>15</th>\n",
              "      <td>0.859049</td>\n",
              "      <td>0.854408</td>\n",
              "      <td>0.866879</td>\n",
              "      <td>0.868910</td>\n",
              "      <td>0.765371</td>\n",
              "      <td>0.765371</td>\n",
              "      <td>0.75029</td>\n",
              "    </tr>\n",
              "    <tr>\n",
              "      <th>16</th>\n",
              "      <td>0.859919</td>\n",
              "      <td>0.854408</td>\n",
              "      <td>0.868329</td>\n",
              "      <td>0.867459</td>\n",
              "      <td>0.765371</td>\n",
              "      <td>0.765371</td>\n",
              "      <td>0.75029</td>\n",
              "    </tr>\n",
              "    <tr>\n",
              "      <th>17</th>\n",
              "      <td>0.860499</td>\n",
              "      <td>0.855568</td>\n",
              "      <td>0.868329</td>\n",
              "      <td>0.867459</td>\n",
              "      <td>0.765371</td>\n",
              "      <td>0.765371</td>\n",
              "      <td>0.75029</td>\n",
              "    </tr>\n",
              "    <tr>\n",
              "      <th>18</th>\n",
              "      <td>0.860209</td>\n",
              "      <td>0.855568</td>\n",
              "      <td>0.869780</td>\n",
              "      <td>0.867749</td>\n",
              "      <td>0.765371</td>\n",
              "      <td>0.765371</td>\n",
              "      <td>0.75029</td>\n",
              "    </tr>\n",
              "    <tr>\n",
              "      <th>19</th>\n",
              "      <td>0.860209</td>\n",
              "      <td>0.854698</td>\n",
              "      <td>0.868039</td>\n",
              "      <td>0.868039</td>\n",
              "      <td>0.765371</td>\n",
              "      <td>0.765371</td>\n",
              "      <td>0.75029</td>\n",
              "    </tr>\n",
              "  </tbody>\n",
              "</table>\n",
              "</div>"
            ],
            "text/plain": [
              "    ResNet50     Vgg16  MobileNet  MobileNetV2       HOG       LBP      ORB\n",
              "0   0.861659  0.853828   0.868619     0.868329  0.765371  0.765371  0.75029\n",
              "1   0.859629  0.854698   0.868910     0.868039  0.765371  0.765371  0.75029\n",
              "2   0.859919  0.852958   0.868910     0.867749  0.765371  0.765371  0.75029\n",
              "3   0.860499  0.854698   0.867459     0.868619  0.765371  0.765371  0.75029\n",
              "4   0.859339  0.853828   0.866879     0.866879  0.765371  0.765371  0.75029\n",
              "5   0.859339  0.854988   0.868039     0.867459  0.765371  0.765371  0.75029\n",
              "6   0.859629  0.854698   0.868039     0.868619  0.765371  0.765371  0.75029\n",
              "7   0.859339  0.855568   0.867169     0.867169  0.765371  0.765371  0.75029\n",
              "8   0.858469  0.854698   0.867459     0.867749  0.765371  0.765371  0.75029\n",
              "9   0.859629  0.854408   0.867749     0.867459  0.765371  0.765371  0.75029\n",
              "10  0.860789  0.855278   0.868039     0.868619  0.765371  0.765371  0.75029\n",
              "11  0.858469  0.854408   0.868619     0.868910  0.765371  0.765371  0.75029\n",
              "12  0.858179  0.854408   0.869200     0.867169  0.765371  0.765371  0.75029\n",
              "13  0.861659  0.855278   0.868910     0.868329  0.765371  0.765371  0.75029\n",
              "14  0.860209  0.853538   0.868619     0.868329  0.765371  0.765371  0.75029\n",
              "15  0.859049  0.854408   0.866879     0.868910  0.765371  0.765371  0.75029\n",
              "16  0.859919  0.854408   0.868329     0.867459  0.765371  0.765371  0.75029\n",
              "17  0.860499  0.855568   0.868329     0.867459  0.765371  0.765371  0.75029\n",
              "18  0.860209  0.855568   0.869780     0.867749  0.765371  0.765371  0.75029\n",
              "19  0.860209  0.854698   0.868039     0.868039  0.765371  0.765371  0.75029"
            ]
          },
          "metadata": {
            "tags": []
          },
          "execution_count": 109
        }
      ]
    },
    {
      "cell_type": "markdown",
      "metadata": {
        "id": "7cmtu-Nzb1Y_"
      },
      "source": [
        "Generate a boxplot to see the data distribution by treatments. Using boxplot, we can easily detect the difference between different treatments"
      ]
    },
    {
      "cell_type": "code",
      "metadata": {
        "id": "26Q7XMR5VKKM"
      },
      "source": [
        "plt.figure(figsize=(10, 7))\n",
        "bplot = sns.boxplot(data = df_acc[['ResNet50', 'Vgg16', 'MobileNet', 'MobileNetV2']], width=0.5, palette=\"colorblind\")\n",
        "\n",
        "bplot.axes.set_title(\"Accuracy of Similarity Algorithms\", fontsize=16)\n",
        "bplot.set_xlabel(\"Algorithms\", fontsize=14)\n",
        "bplot.set_ylabel(\"Accuracy\", fontsize=14)\n",
        "bplot.tick_params(labelsize=10)\n",
        "\n",
        "# add stripplot to boxplot with Seaborn\n",
        "bplot=sns.stripplot(data = df_acc[['ResNet50', 'Vgg16', 'MobileNet', 'MobileNetV2']],\n",
        "                   jitter=True, \n",
        "                   marker='*', \n",
        "                   alpha=0.5,\n",
        "                   color='black')"
      ],
      "execution_count": null,
      "outputs": []
    },
    {
      "cell_type": "code",
      "metadata": {
        "colab": {
          "base_uri": "https://localhost:8080/",
          "height": 464
        },
        "id": "KqirgJ6jf7XS",
        "outputId": "e5e80c84-d416-4e19-b13a-b5bd0020179b"
      },
      "source": [
        "plt.figure(figsize=(10, 7))\n",
        "bplot = sns.boxplot(data = df_acc[['ResNet50', 'Vgg16', 'MobileNet', 'MobileNetV2']], width=0.5, palette=\"colorblind\")\n",
        "\n",
        "bplot.axes.set_title(\"Accuracy of Similarity Algorithms Using Architecture Pre-trained\", fontsize=16)\n",
        "bplot.set_xlabel(\"Algorithms\", fontsize=14)\n",
        "bplot.set_ylabel(\"Accuracy\", fontsize=14)\n",
        "bplot.tick_params(labelsize=10)\n",
        "\n",
        "# add swarmplot to boxplot with Seaborn\n",
        "bplot=sns.swarmplot(data = df_acc[['ResNet50', 'Vgg16', 'MobileNet', 'MobileNetV2']], \n",
        "                   marker='o',\n",
        "                   alpha=0.5,\n",
        "                   color='black')"
      ],
      "execution_count": 97,
      "outputs": [
        {
          "output_type": "display_data",
          "data": {
            "image/png": "[encoded data removed]",
            "text/plain": [
              "<Figure size 720x504 with 1 Axes>"
            ]
          },
          "metadata": {
            "tags": [],
            "needs_background": "light"
          }
        }
      ]
    },
    {
      "cell_type": "code",
      "metadata": {
        "id": "OQyZZ9rCgpIc"
      },
      "source": [
        "# output file name\n",
        "plot_file_name=output_path+\"boxplot_and_swarmplot_accuracy.jpg\"\n",
        "\n",
        "# save as jpeg\n",
        "bplot.figure.savefig(plot_file_name,\n",
        "                    format='jpeg',\n",
        "                    dpi=100)"
      ],
      "execution_count": 98,
      "outputs": []
    },
    {
      "cell_type": "code",
      "metadata": {
        "colab": {
          "base_uri": "https://localhost:8080/",
          "height": 464
        },
        "id": "ITuf2W-SkoCv",
        "outputId": "e45e330a-28bd-4491-8d71-93e1c3b5fe4b"
      },
      "source": [
        "plt.figure(figsize=(10, 7))\n",
        "bplot1 = sns.boxplot(data = df_acc[['HOG', 'LBP', 'ORB']], width=0.5, palette=\"colorblind\")\n",
        "\n",
        "bplot1.axes.set_title(\"Accuracy of Similarity Algorithms Using Architecture Convolutional Autoencoder\", fontsize=16)\n",
        "bplot1.set_xlabel(\"Algorithms\", fontsize=14)\n",
        "bplot1.set_ylabel(\"Accuracy\", fontsize=14)\n",
        "bplot1.tick_params(labelsize=10)\n",
        "\n",
        "# add swarmplot to boxplot with Seaborn\n",
        "bplot1=sns.swarmplot(data = df_acc[['HOG', 'LBP', 'ORB']], \n",
        "                   marker='o',\n",
        "                   alpha=0.5,\n",
        "                   color='black')"
      ],
      "execution_count": 111,
      "outputs": [
        {
          "output_type": "display_data",
          "data": {
            "image/png": "[encoded data removed]",
            "text/plain": [
              "<Figure size 720x504 with 1 Axes>"
            ]
          },
          "metadata": {
            "tags": [],
            "needs_background": "light"
          }
        }
      ]
    },
    {
      "cell_type": "code",
      "metadata": {
        "id": "M_rJu6Pkl3s7"
      },
      "source": [
        "# output file name\n",
        "plot_file_name=output_path+\"boxplot_and_swarmplot_accuracy2.jpg\"\n",
        "\n",
        "# save as jpeg\n",
        "bplot1.figure.savefig(plot_file_name,\n",
        "                    format='jpeg',\n",
        "                    dpi=100)"
      ],
      "execution_count": 112,
      "outputs": []
    },
    {
      "cell_type": "code",
      "metadata": {
        "id": "U4IQjOS_PID2"
      },
      "source": [
        "df_duration_resnet50 = pd.read_csv(output_path+'duration_resnet50.csv', names = ['ResNet50'], sep=\"\\t\")\n",
        "df_duration_vgg16 = pd.read_csv(output_path+'duration_vgg16.csv',  names = ['Vgg16'],sep=\"\\t\")\n",
        "df_duration_mobilenet = pd.read_csv(output_path+'duration_mobilenet.csv', names = ['MobileNet'],sep=\"\\t\")\n",
        "df_duration_mobilenetv2 = pd.read_csv(output_path+'duration_mobilenetv2.csv',names = ['MobileNetV2'],sep=\"\\t\")\n",
        "\n",
        "df_duration_hog = pd.read_csv(output_path+'duration_hog.csv',  names = ['HOG'],sep=\"\\t\")\n",
        "df_duration_lbp = pd.read_csv(output_path+'duration_lbp.csv', names = ['LBP'],sep=\"\\t\")\n",
        "df_duration_orb = pd.read_csv(output_path+'duration_orb.csv',names = ['ORB'],sep=\"\\t\")\n",
        "\n",
        "df_duration = pd.concat([df_duration_resnet50, df_duration_vgg16,df_duration_mobilenet,df_duration_mobilenetv2, df_duration_hog, df_duration_lbp, df_duration_orb ], axis=1, join=\"inner\")"
      ],
      "execution_count": 103,
      "outputs": []
    },
    {
      "cell_type": "code",
      "metadata": {
        "colab": {
          "base_uri": "https://localhost:8080/",
          "height": 648
        },
        "id": "njTlaTrrP2-P",
        "outputId": "01c2b43d-402d-4802-e29e-628708b27eef"
      },
      "source": [
        "df_duration"
      ],
      "execution_count": 108,
      "outputs": [
        {
          "output_type": "execute_result",
          "data": {
            "text/html": [
              "<div>\n",
              "<style scoped>\n",
              "    .dataframe tbody tr th:only-of-type {\n",
              "        vertical-align: middle;\n",
              "    }\n",
              "\n",
              "    .dataframe tbody tr th {\n",
              "        vertical-align: top;\n",
              "    }\n",
              "\n",
              "    .dataframe thead th {\n",
              "        text-align: right;\n",
              "    }\n",
              "</style>\n",
              "<table border=\"1\" class=\"dataframe\">\n",
              "  <thead>\n",
              "    <tr style=\"text-align: right;\">\n",
              "      <th></th>\n",
              "      <th>ResNet50</th>\n",
              "      <th>Vgg16</th>\n",
              "      <th>MobileNet</th>\n",
              "      <th>MobileNetV2</th>\n",
              "      <th>HOG</th>\n",
              "      <th>LBP</th>\n",
              "      <th>ORB</th>\n",
              "    </tr>\n",
              "  </thead>\n",
              "  <tbody>\n",
              "    <tr>\n",
              "      <th>0</th>\n",
              "      <td>359.471897</td>\n",
              "      <td>386.997386</td>\n",
              "      <td>369.087097</td>\n",
              "      <td>389.443043</td>\n",
              "      <td>38.211859</td>\n",
              "      <td>424.239110</td>\n",
              "      <td>6.650099</td>\n",
              "    </tr>\n",
              "    <tr>\n",
              "      <th>1</th>\n",
              "      <td>353.510399</td>\n",
              "      <td>368.549029</td>\n",
              "      <td>365.531461</td>\n",
              "      <td>368.595058</td>\n",
              "      <td>35.582711</td>\n",
              "      <td>423.224071</td>\n",
              "      <td>6.137873</td>\n",
              "    </tr>\n",
              "    <tr>\n",
              "      <th>2</th>\n",
              "      <td>361.132661</td>\n",
              "      <td>366.504789</td>\n",
              "      <td>365.368234</td>\n",
              "      <td>379.876235</td>\n",
              "      <td>31.384846</td>\n",
              "      <td>423.399020</td>\n",
              "      <td>6.160242</td>\n",
              "    </tr>\n",
              "    <tr>\n",
              "      <th>3</th>\n",
              "      <td>362.724344</td>\n",
              "      <td>360.959544</td>\n",
              "      <td>362.966024</td>\n",
              "      <td>361.971986</td>\n",
              "      <td>31.181205</td>\n",
              "      <td>422.637025</td>\n",
              "      <td>6.188862</td>\n",
              "    </tr>\n",
              "    <tr>\n",
              "      <th>4</th>\n",
              "      <td>357.004405</td>\n",
              "      <td>364.360277</td>\n",
              "      <td>361.163039</td>\n",
              "      <td>372.859034</td>\n",
              "      <td>31.339548</td>\n",
              "      <td>422.003082</td>\n",
              "      <td>6.167354</td>\n",
              "    </tr>\n",
              "    <tr>\n",
              "      <th>5</th>\n",
              "      <td>352.284464</td>\n",
              "      <td>367.311785</td>\n",
              "      <td>363.509294</td>\n",
              "      <td>360.251463</td>\n",
              "      <td>31.157372</td>\n",
              "      <td>422.286148</td>\n",
              "      <td>6.180527</td>\n",
              "    </tr>\n",
              "    <tr>\n",
              "      <th>6</th>\n",
              "      <td>352.062314</td>\n",
              "      <td>366.591127</td>\n",
              "      <td>363.774687</td>\n",
              "      <td>359.293272</td>\n",
              "      <td>31.309112</td>\n",
              "      <td>422.642074</td>\n",
              "      <td>6.202039</td>\n",
              "    </tr>\n",
              "    <tr>\n",
              "      <th>7</th>\n",
              "      <td>351.821855</td>\n",
              "      <td>365.751943</td>\n",
              "      <td>360.658052</td>\n",
              "      <td>362.406293</td>\n",
              "      <td>31.116332</td>\n",
              "      <td>423.231086</td>\n",
              "      <td>6.116482</td>\n",
              "    </tr>\n",
              "    <tr>\n",
              "      <th>8</th>\n",
              "      <td>353.493541</td>\n",
              "      <td>365.539588</td>\n",
              "      <td>361.048988</td>\n",
              "      <td>361.243935</td>\n",
              "      <td>31.145504</td>\n",
              "      <td>423.477042</td>\n",
              "      <td>6.061200</td>\n",
              "    </tr>\n",
              "    <tr>\n",
              "      <th>9</th>\n",
              "      <td>353.172679</td>\n",
              "      <td>364.768562</td>\n",
              "      <td>360.333089</td>\n",
              "      <td>359.390157</td>\n",
              "      <td>31.120764</td>\n",
              "      <td>424.749055</td>\n",
              "      <td>6.097171</td>\n",
              "    </tr>\n",
              "    <tr>\n",
              "      <th>10</th>\n",
              "      <td>353.620358</td>\n",
              "      <td>364.965263</td>\n",
              "      <td>359.758655</td>\n",
              "      <td>359.570157</td>\n",
              "      <td>31.568991</td>\n",
              "      <td>424.726266</td>\n",
              "      <td>6.103086</td>\n",
              "    </tr>\n",
              "    <tr>\n",
              "      <th>11</th>\n",
              "      <td>353.513279</td>\n",
              "      <td>365.391781</td>\n",
              "      <td>360.070994</td>\n",
              "      <td>359.985313</td>\n",
              "      <td>31.148149</td>\n",
              "      <td>423.985065</td>\n",
              "      <td>6.125674</td>\n",
              "    </tr>\n",
              "    <tr>\n",
              "      <th>12</th>\n",
              "      <td>354.317425</td>\n",
              "      <td>365.260232</td>\n",
              "      <td>364.299638</td>\n",
              "      <td>358.916697</td>\n",
              "      <td>31.255489</td>\n",
              "      <td>424.942774</td>\n",
              "      <td>6.026564</td>\n",
              "    </tr>\n",
              "    <tr>\n",
              "      <th>13</th>\n",
              "      <td>356.554550</td>\n",
              "      <td>364.119253</td>\n",
              "      <td>362.314281</td>\n",
              "      <td>357.678683</td>\n",
              "      <td>31.086462</td>\n",
              "      <td>425.011125</td>\n",
              "      <td>6.080519</td>\n",
              "    </tr>\n",
              "    <tr>\n",
              "      <th>14</th>\n",
              "      <td>355.018586</td>\n",
              "      <td>363.522924</td>\n",
              "      <td>362.155197</td>\n",
              "      <td>357.774839</td>\n",
              "      <td>31.232007</td>\n",
              "      <td>424.310317</td>\n",
              "      <td>6.057324</td>\n",
              "    </tr>\n",
              "    <tr>\n",
              "      <th>15</th>\n",
              "      <td>355.972903</td>\n",
              "      <td>363.316904</td>\n",
              "      <td>359.940513</td>\n",
              "      <td>359.061039</td>\n",
              "      <td>31.270711</td>\n",
              "      <td>424.268281</td>\n",
              "      <td>6.132273</td>\n",
              "    </tr>\n",
              "    <tr>\n",
              "      <th>16</th>\n",
              "      <td>356.683604</td>\n",
              "      <td>361.830276</td>\n",
              "      <td>361.302142</td>\n",
              "      <td>357.796625</td>\n",
              "      <td>31.179751</td>\n",
              "      <td>423.757973</td>\n",
              "      <td>6.138383</td>\n",
              "    </tr>\n",
              "    <tr>\n",
              "      <th>17</th>\n",
              "      <td>357.399000</td>\n",
              "      <td>363.693506</td>\n",
              "      <td>359.308471</td>\n",
              "      <td>359.081640</td>\n",
              "      <td>31.163641</td>\n",
              "      <td>425.362046</td>\n",
              "      <td>6.071014</td>\n",
              "    </tr>\n",
              "    <tr>\n",
              "      <th>18</th>\n",
              "      <td>355.867612</td>\n",
              "      <td>363.324395</td>\n",
              "      <td>363.120000</td>\n",
              "      <td>359.689396</td>\n",
              "      <td>31.383032</td>\n",
              "      <td>426.532638</td>\n",
              "      <td>6.009313</td>\n",
              "    </tr>\n",
              "    <tr>\n",
              "      <th>19</th>\n",
              "      <td>354.303983</td>\n",
              "      <td>363.844503</td>\n",
              "      <td>362.297886</td>\n",
              "      <td>359.021471</td>\n",
              "      <td>31.207139</td>\n",
              "      <td>422.569930</td>\n",
              "      <td>6.016505</td>\n",
              "    </tr>\n",
              "  </tbody>\n",
              "</table>\n",
              "</div>"
            ],
            "text/plain": [
              "      ResNet50       Vgg16   MobileNet  ...        HOG         LBP       ORB\n",
              "0   359.471897  386.997386  369.087097  ...  38.211859  424.239110  6.650099\n",
              "1   353.510399  368.549029  365.531461  ...  35.582711  423.224071  6.137873\n",
              "2   361.132661  366.504789  365.368234  ...  31.384846  423.399020  6.160242\n",
              "3   362.724344  360.959544  362.966024  ...  31.181205  422.637025  6.188862\n",
              "4   357.004405  364.360277  361.163039  ...  31.339548  422.003082  6.167354\n",
              "5   352.284464  367.311785  363.509294  ...  31.157372  422.286148  6.180527\n",
              "6   352.062314  366.591127  363.774687  ...  31.309112  422.642074  6.202039\n",
              "7   351.821855  365.751943  360.658052  ...  31.116332  423.231086  6.116482\n",
              "8   353.493541  365.539588  361.048988  ...  31.145504  423.477042  6.061200\n",
              "9   353.172679  364.768562  360.333089  ...  31.120764  424.749055  6.097171\n",
              "10  353.620358  364.965263  359.758655  ...  31.568991  424.726266  6.103086\n",
              "11  353.513279  365.391781  360.070994  ...  31.148149  423.985065  6.125674\n",
              "12  354.317425  365.260232  364.299638  ...  31.255489  424.942774  6.026564\n",
              "13  356.554550  364.119253  362.314281  ...  31.086462  425.011125  6.080519\n",
              "14  355.018586  363.522924  362.155197  ...  31.232007  424.310317  6.057324\n",
              "15  355.972903  363.316904  359.940513  ...  31.270711  424.268281  6.132273\n",
              "16  356.683604  361.830276  361.302142  ...  31.179751  423.757973  6.138383\n",
              "17  357.399000  363.693506  359.308471  ...  31.163641  425.362046  6.071014\n",
              "18  355.867612  363.324395  363.120000  ...  31.383032  426.532638  6.009313\n",
              "19  354.303983  363.844503  362.297886  ...  31.207139  422.569930  6.016505\n",
              "\n",
              "[20 rows x 7 columns]"
            ]
          },
          "metadata": {
            "tags": []
          },
          "execution_count": 108
        }
      ]
    },
    {
      "cell_type": "code",
      "metadata": {
        "colab": {
          "base_uri": "https://localhost:8080/",
          "height": 464
        },
        "id": "P0Hk4SG9mBYW",
        "outputId": "e3c6497f-72f0-46a6-bec6-95259fc229a3"
      },
      "source": [
        "plt.figure(figsize=(10, 7))\n",
        "bplot = sns.boxplot(data = df_duration[['ResNet50', 'Vgg16', 'MobileNet', 'MobileNetV2']], width=0.5, palette=\"colorblind\")\n",
        "\n",
        "bplot.axes.set_title(\"Execution Time of Similarity Algorithms Using Architecture Pre-trained\", fontsize=16)\n",
        "bplot.set_xlabel(\"Algorithms\", fontsize=14)\n",
        "bplot.set_ylabel(\"Duration\", fontsize=14)\n",
        "bplot.tick_params(labelsize=10)\n",
        "\n",
        "# add swarmplot to boxplot with Seaborn\n",
        "bplot=sns.swarmplot(data = df_duration[['ResNet50', 'Vgg16', 'MobileNet', 'MobileNetV2']], \n",
        "                   marker='o',\n",
        "                   alpha=0.5,\n",
        "                   color='black')"
      ],
      "execution_count": 105,
      "outputs": [
        {
          "output_type": "display_data",
          "data": {
            "image/png": "[encoded data removed]",
            "text/plain": [
              "<Figure size 720x504 with 1 Axes>"
            ]
          },
          "metadata": {
            "tags": [],
            "needs_background": "light"
          }
        }
      ]
    },
    {
      "cell_type": "code",
      "metadata": {
        "id": "RhMHafkWmc3S"
      },
      "source": [
        "# output file name\n",
        "plot_file_name=output_path+\"boxplot_and_swarmplot_duration.jpg\"\n",
        "\n",
        "# save as jpeg\n",
        "bplot.figure.savefig(plot_file_name,\n",
        "                    format='jpeg',\n",
        "                    dpi=100)"
      ],
      "execution_count": 106,
      "outputs": []
    },
    {
      "cell_type": "code",
      "metadata": {
        "colab": {
          "base_uri": "https://localhost:8080/",
          "height": 464
        },
        "id": "rI1V3bw1modJ",
        "outputId": "949abb9f-7209-4c1b-93b8-bccf7ee66116"
      },
      "source": [
        "plt.figure(figsize=(10, 7))\n",
        "bplot2 = sns.boxplot(data = df_duration[['HOG', 'LBP', 'ORB']], width=0.5, palette=\"colorblind\")\n",
        "\n",
        "bplot2.axes.set_title(\"Execution Time of Similarity Algorithms Using Architecture Convolutional Autoencoder\", fontsize=16)\n",
        "bplot2.set_xlabel(\"Algorithms\", fontsize=14)\n",
        "bplot2.set_ylabel(\"Duration\", fontsize=14)\n",
        "bplot2.tick_params(labelsize=10)\n",
        "\n",
        "# add swarmplot to boxplot with Seaborn\n",
        "bplot2=sns.swarmplot(data = df_duration[['HOG', 'LBP', 'ORB']], \n",
        "                   marker='o',\n",
        "                   alpha=0.5,\n",
        "                   color='black')"
      ],
      "execution_count": 107,
      "outputs": [
        {
          "output_type": "display_data",
          "data": {
            "image/png": "[encoded data removed]",
            "text/plain": [
              "<Figure size 720x504 with 1 Axes>"
            ]
          },
          "metadata": {
            "tags": [],
            "needs_background": "light"
          }
        }
      ]
    },
    {
      "cell_type": "code",
      "metadata": {
        "id": "81WCq05-njRi"
      },
      "source": [
        "# output file name\n",
        "plot_file_name=output_path+\"boxplot_and_swarmplot_duration2.jpg\"\n",
        "\n",
        "# save as jpeg\n",
        "bplot2.figure.savefig(plot_file_name,\n",
        "                    format='jpeg',\n",
        "                    dpi=100)"
      ],
      "execution_count": 110,
      "outputs": []
    },
    {
      "cell_type": "markdown",
      "metadata": {
        "id": "f4J0FtjHshdd"
      },
      "source": [
        "### Accuracy Statistic"
      ]
    },
    {
      "cell_type": "markdown",
      "metadata": {
        "id": "XwJTw-ClpLf2"
      },
      "source": [
        "Stats f_oneway functions takes the groups as input and returns F and P-value"
      ]
    },
    {
      "cell_type": "code",
      "metadata": {
        "colab": {
          "base_uri": "https://localhost:8080/"
        },
        "id": "tq4VdVJXqWIz",
        "outputId": "5b1115aa-a326-4b9a-8860-1f47275141b8"
      },
      "source": [
        "fvalue, pvalue = stats.f_oneway(df_acc['ResNet50'], df_acc['Vgg16'], df_acc['MobileNet'], df_acc['MobileNetV2'],df_acc['HOG'], df_acc['LBP'], df_acc['ORB'])\n",
        "print(fvalue, pvalue)"
      ],
      "execution_count": 116,
      "outputs": [
        {
          "output_type": "stream",
          "text": [
            "181266.55862708646 1.4834666847111374e-257\n"
          ],
          "name": "stdout"
        }
      ]
    },
    {
      "cell_type": "markdown",
      "metadata": {
        "id": "PGkzBq2gp4nU"
      },
      "source": [
        "Get ANOVA table as R like output"
      ]
    },
    {
      "cell_type": "code",
      "metadata": {
        "colab": {
          "base_uri": "https://localhost:8080/",
          "height": 108
        },
        "id": "BTTmWUQ0p0P_",
        "outputId": "7f35d388-8cca-4327-bfc7-6b6378acc324"
      },
      "source": [
        "# reshape the d dataframe suitable for statsmodels package \n",
        "d_melt = pd.melt(df_acc.reset_index(), id_vars=['index'], value_vars=['ResNet50', 'Vgg16', 'MobileNet', 'MobileNetV2','HOG', 'LBP', 'ORB'])\n",
        "# replace column names\n",
        "d_melt.columns = ['index', 'treatments', 'value']\n",
        "# Ordinary Least Squares (OLS) model\n",
        "model = ols('value ~ C(treatments)', data=d_melt).fit()\n",
        "anova_table = sm.stats.anova_lm(model, typ=2)\n",
        "anova_table"
      ],
      "execution_count": 118,
      "outputs": [
        {
          "output_type": "execute_result",
          "data": {
            "text/html": [
              "<div>\n",
              "<style scoped>\n",
              "    .dataframe tbody tr th:only-of-type {\n",
              "        vertical-align: middle;\n",
              "    }\n",
              "\n",
              "    .dataframe tbody tr th {\n",
              "        vertical-align: top;\n",
              "    }\n",
              "\n",
              "    .dataframe thead th {\n",
              "        text-align: right;\n",
              "    }\n",
              "</style>\n",
              "<table border=\"1\" class=\"dataframe\">\n",
              "  <thead>\n",
              "    <tr style=\"text-align: right;\">\n",
              "      <th></th>\n",
              "      <th>sum_sq</th>\n",
              "      <th>df</th>\n",
              "      <th>F</th>\n",
              "      <th>PR(&gt;F)</th>\n",
              "    </tr>\n",
              "  </thead>\n",
              "  <tbody>\n",
              "    <tr>\n",
              "      <th>C(treatments)</th>\n",
              "      <td>0.364483</td>\n",
              "      <td>6.0</td>\n",
              "      <td>181266.558627</td>\n",
              "      <td>1.483467e-257</td>\n",
              "    </tr>\n",
              "    <tr>\n",
              "      <th>Residual</th>\n",
              "      <td>0.000045</td>\n",
              "      <td>133.0</td>\n",
              "      <td>NaN</td>\n",
              "      <td>NaN</td>\n",
              "    </tr>\n",
              "  </tbody>\n",
              "</table>\n",
              "</div>"
            ],
            "text/plain": [
              "                 sum_sq     df              F         PR(>F)\n",
              "C(treatments)  0.364483    6.0  181266.558627  1.483467e-257\n",
              "Residual       0.000045  133.0            NaN            NaN"
            ]
          },
          "metadata": {
            "tags": []
          },
          "execution_count": 118
        }
      ]
    },
    {
      "cell_type": "markdown",
      "metadata": {
        "id": "M98fbDrqtPIR"
      },
      "source": [
        "Perform multiple pairwise comparison (Tukey HSD)"
      ]
    },
    {
      "cell_type": "code",
      "metadata": {
        "colab": {
          "base_uri": "https://localhost:8080/"
        },
        "id": "hqq9aO9BrIpM",
        "outputId": "6582aef5-b608-4940-c435-8af0fd15e87d"
      },
      "source": [
        "m_comp = pairwise_tukeyhsd(endog=d_melt['value'], groups=d_melt['treatments'], alpha=0.05)\n",
        "print(m_comp)"
      ],
      "execution_count": 120,
      "outputs": [
        {
          "output_type": "stream",
          "text": [
            "     Multiple Comparison of Means - Tukey HSD, FWER=0.05      \n",
            "==============================================================\n",
            "   group1      group2   meandiff p-adj   lower   upper  reject\n",
            "--------------------------------------------------------------\n",
            "        HOG         LBP      0.0    0.9 -0.0005  0.0005  False\n",
            "        HOG   MobileNet   0.1028  0.001  0.1023  0.1034   True\n",
            "        HOG MobileNetV2   0.1026  0.001   0.102  0.1031   True\n",
            "        HOG         ORB  -0.0151  0.001 -0.0156 -0.0145   True\n",
            "        HOG    ResNet50   0.0945  0.001  0.0939   0.095   True\n",
            "        HOG       Vgg16   0.0892  0.001  0.0887  0.0898   True\n",
            "        LBP   MobileNet   0.1028  0.001  0.1023  0.1034   True\n",
            "        LBP MobileNetV2   0.1026  0.001   0.102  0.1031   True\n",
            "        LBP         ORB  -0.0151  0.001 -0.0156 -0.0145   True\n",
            "        LBP    ResNet50   0.0945  0.001  0.0939   0.095   True\n",
            "        LBP       Vgg16   0.0892  0.001  0.0887  0.0898   True\n",
            "  MobileNet MobileNetV2  -0.0002 0.8062 -0.0008  0.0003  False\n",
            "  MobileNet         ORB  -0.1179  0.001 -0.1185 -0.1174   True\n",
            "  MobileNet    ResNet50  -0.0084  0.001 -0.0089 -0.0078   True\n",
            "  MobileNet       Vgg16  -0.0136  0.001 -0.0142 -0.0131   True\n",
            "MobileNetV2         ORB  -0.1177  0.001 -0.1182 -0.1171   True\n",
            "MobileNetV2    ResNet50  -0.0081  0.001 -0.0087 -0.0076   True\n",
            "MobileNetV2       Vgg16  -0.0134  0.001 -0.0139 -0.0128   True\n",
            "        ORB    ResNet50   0.1095  0.001   0.109  0.1101   True\n",
            "        ORB       Vgg16   0.1043  0.001  0.1038  0.1049   True\n",
            "   ResNet50       Vgg16  -0.0052  0.001 -0.0058 -0.0047   True\n",
            "--------------------------------------------------------------\n"
          ],
          "name": "stdout"
        }
      ]
    },
    {
      "cell_type": "markdown",
      "metadata": {
        "id": "ZsIFt0AAspkC"
      },
      "source": [
        "### Execution Time Statistic"
      ]
    },
    {
      "cell_type": "code",
      "metadata": {
        "colab": {
          "base_uri": "https://localhost:8080/"
        },
        "id": "WnKoMKYwswpq",
        "outputId": "d3d46fea-a42e-497a-aad0-9027dcb3d4c7"
      },
      "source": [
        "fvalue, pvalue = stats.f_oneway(df_duration['ResNet50'], df_duration['Vgg16'], df_duration['MobileNet'], df_duration['MobileNetV2'],df_duration['HOG'], df_duration['LBP'], df_duration['ORB'])\n",
        "print(fvalue, pvalue)"
      ],
      "execution_count": 121,
      "outputs": [
        {
          "output_type": "stream",
          "text": [
            "36566.47055348996 2.4546929603212165e-211\n"
          ],
          "name": "stdout"
        }
      ]
    },
    {
      "cell_type": "markdown",
      "metadata": {
        "id": "me_1GmDgtKbv"
      },
      "source": [
        "Get ANOVA table as R like output"
      ]
    },
    {
      "cell_type": "code",
      "metadata": {
        "colab": {
          "base_uri": "https://localhost:8080/",
          "height": 108
        },
        "id": "VbrhdiCvtFgk",
        "outputId": "19ecb70f-0f15-4563-b090-d58a2f4502d5"
      },
      "source": [
        "# reshape the d dataframe suitable for statsmodels package \n",
        "d_melt = pd.melt(df_duration.reset_index(), id_vars=['index'], value_vars=['ResNet50', 'Vgg16', 'MobileNet', 'MobileNetV2','HOG', 'LBP', 'ORB'])\n",
        "# replace column names\n",
        "d_melt.columns = ['index', 'treatments', 'value']\n",
        "# Ordinary Least Squares (OLS) model\n",
        "model = ols('value ~ C(treatments)', data=d_melt).fit()\n",
        "anova_table = sm.stats.anova_lm(model, typ=2)\n",
        "anova_table"
      ],
      "execution_count": 122,
      "outputs": [
        {
          "output_type": "execute_result",
          "data": {
            "text/html": [
              "<div>\n",
              "<style scoped>\n",
              "    .dataframe tbody tr th:only-of-type {\n",
              "        vertical-align: middle;\n",
              "    }\n",
              "\n",
              "    .dataframe tbody tr th {\n",
              "        vertical-align: top;\n",
              "    }\n",
              "\n",
              "    .dataframe thead th {\n",
              "        text-align: right;\n",
              "    }\n",
              "</style>\n",
              "<table border=\"1\" class=\"dataframe\">\n",
              "  <thead>\n",
              "    <tr style=\"text-align: right;\">\n",
              "      <th></th>\n",
              "      <th>sum_sq</th>\n",
              "      <th>df</th>\n",
              "      <th>F</th>\n",
              "      <th>PR(&gt;F)</th>\n",
              "    </tr>\n",
              "  </thead>\n",
              "  <tbody>\n",
              "    <tr>\n",
              "      <th>C(treatments)</th>\n",
              "      <td>3.674075e+06</td>\n",
              "      <td>6.0</td>\n",
              "      <td>36566.470553</td>\n",
              "      <td>2.454693e-211</td>\n",
              "    </tr>\n",
              "    <tr>\n",
              "      <th>Residual</th>\n",
              "      <td>2.227232e+03</td>\n",
              "      <td>133.0</td>\n",
              "      <td>NaN</td>\n",
              "      <td>NaN</td>\n",
              "    </tr>\n",
              "  </tbody>\n",
              "</table>\n",
              "</div>"
            ],
            "text/plain": [
              "                     sum_sq     df             F         PR(>F)\n",
              "C(treatments)  3.674075e+06    6.0  36566.470553  2.454693e-211\n",
              "Residual       2.227232e+03  133.0           NaN            NaN"
            ]
          },
          "metadata": {
            "tags": []
          },
          "execution_count": 122
        }
      ]
    },
    {
      "cell_type": "markdown",
      "metadata": {
        "id": "Ep3gCRd3tUwI"
      },
      "source": [
        "Perform multiple pairwise comparison (Tukey HSD)"
      ]
    },
    {
      "cell_type": "code",
      "metadata": {
        "colab": {
          "base_uri": "https://localhost:8080/"
        },
        "id": "KzxL41TdtFhT",
        "outputId": "4d1abf4e-0e05-4039-d440-850f202d0b79"
      },
      "source": [
        "# perform multiple pairwise comparison (Tukey HSD)\n",
        "m_comp = pairwise_tukeyhsd(endog=d_melt['value'], groups=d_melt['treatments'], alpha=0.05)\n",
        "print(m_comp)"
      ],
      "execution_count": 123,
      "outputs": [
        {
          "output_type": "stream",
          "text": [
            "        Multiple Comparison of Means - Tukey HSD, FWER=0.05        \n",
            "===================================================================\n",
            "   group1      group2    meandiff p-adj    lower     upper   reject\n",
            "-------------------------------------------------------------------\n",
            "        HOG         LBP  392.0655  0.001  388.1911  395.9398   True\n",
            "        HOG   MobileNet  330.5982  0.001  326.7238  334.4725   True\n",
            "        HOG MobileNetV2  331.3931  0.001  327.5188  335.2674   True\n",
            "        HOG         ORB  -25.6661  0.001  -29.5404  -21.7918   True\n",
            "        HOG    ResNet50  323.6943  0.001  319.8199  327.5686   True\n",
            "        HOG       Vgg16  334.0279  0.001  330.1536  337.9023   True\n",
            "        LBP   MobileNet  -61.4673  0.001  -65.3416   -57.593   True\n",
            "        LBP MobileNetV2  -60.6724  0.001  -64.5467  -56.7981   True\n",
            "        LBP         ORB -417.7316  0.001 -421.6059 -413.8573   True\n",
            "        LBP    ResNet50  -68.3712  0.001  -72.2455  -64.4969   True\n",
            "        LBP       Vgg16  -58.0376  0.001  -61.9119  -54.1632   True\n",
            "  MobileNet MobileNetV2    0.7949    0.9   -3.0794    4.6693  False\n",
            "  MobileNet         ORB -356.2643  0.001 -360.1386 -352.3899   True\n",
            "  MobileNet    ResNet50   -6.9039  0.001  -10.7782   -3.0296   True\n",
            "  MobileNet       Vgg16    3.4298 0.1199   -0.4446    7.3041  False\n",
            "MobileNetV2         ORB -357.0592  0.001 -360.9335 -353.1849   True\n",
            "MobileNetV2    ResNet50   -7.6988  0.001  -11.5732   -3.8245   True\n",
            "MobileNetV2       Vgg16    2.6348 0.3991   -1.2395    6.5092  False\n",
            "        ORB    ResNet50  349.3604  0.001   345.486  353.2347   True\n",
            "        ORB       Vgg16   359.694  0.001  355.8197  363.5684   True\n",
            "   ResNet50       Vgg16   10.3337  0.001    6.4593    14.208   True\n",
            "-------------------------------------------------------------------\n"
          ],
          "name": "stdout"
        }
      ]
    }
  ]
}